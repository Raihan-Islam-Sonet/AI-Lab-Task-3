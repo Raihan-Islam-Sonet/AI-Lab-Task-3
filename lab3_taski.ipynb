{
  "nbformat": 4,
  "nbformat_minor": 0,
  "metadata": {
    "colab": {
      "name": "lab3_taski.ipynb",
      "provenance": [],
      "collapsed_sections": [],
      "include_colab_link": true
    },
    "kernelspec": {
      "name": "python3",
      "display_name": "Python 3"
    }
  },
  "cells": [
    {
      "cell_type": "markdown",
      "metadata": {
        "id": "view-in-github",
        "colab_type": "text"
      },
      "source": [
        "<a href=\"https://colab.research.google.com/github/Raihan-Islam-Sonet/AI-Lab-Task-3/blob/main/lab3_taski.ipynb\" target=\"_parent\"><img src=\"https://colab.research.google.com/assets/colab-badge.svg\" alt=\"Open In Colab\"/></a>"
      ]
    },
    {
      "cell_type": "markdown",
      "metadata": {
        "id": "sOxc8D1jaSjS"
      },
      "source": [
        "**Practice**"
      ]
    },
    {
      "cell_type": "code",
      "metadata": {
        "colab": {
          "base_uri": "https://localhost:8080/"
        },
        "id": "yKRJKKz3l5UC",
        "outputId": "71fd93ed-ecc5-4604-be69-108f6c55b3df"
      },
      "source": [
        "def line():\r\n",
        "  print(\"----------------------\")\r\n",
        "\r\n",
        "def menu():\r\n",
        "  line()\r\n",
        "  print('Menu')\r\n",
        "  line()\r\n",
        "  print('1. Add Item')\r\n",
        "  print('2. Mark as Done')\r\n",
        "  print('3. View List')\r\n",
        "  print('4. Exit')\r\n",
        "  line()\r\n",
        "  choice = input('Enter your choice : ')\r\n",
        "  return choice\r\n",
        "\r\n",
        "data = []\r\n",
        "choice = 'random'\r\n",
        "\r\n",
        "while choice != '4':\r\n",
        "  choice = menu()\r\n",
        "  if choice == '1':\r\n",
        "    item = input('What is to be done ? ')\r\n",
        "    data.append(item)\r\n",
        "    print(f'Item {item} added')\r\n",
        "  elif choice == '2':\r\n",
        "    item = input('What is to be marked as done ? ')\r\n",
        "    if item in data:\r\n",
        "      data.remove(item)\r\n",
        "      print(f'Removed item {item}')\r\n",
        "    else:\r\n",
        "      print(f'Could not find item {item}')\r\n",
        "  elif choice == '3':\r\n",
        "    print('List of to-do items : ')\r\n",
        "    for item in data:\r\n",
        "      print(item)\r\n",
        "  elif choice == '4':\r\n",
        "    print('Goodbye!')\r\n",
        "  else:\r\n",
        "    print('Please enter one of 1, 2, 3 or 4')"
      ],
      "execution_count": null,
      "outputs": [
        {
          "output_type": "stream",
          "text": [
            "----------------------\n",
            "Menu\n",
            "----------------------\n",
            "1. Add Item\n",
            "2. Mark as Done\n",
            "3. View List\n",
            "4. Exit\n",
            "----------------------\n",
            "Enter your choice : 1\n",
            "What is to be done ? ai\n",
            "Item ai added\n",
            "----------------------\n",
            "Menu\n",
            "----------------------\n",
            "1. Add Item\n",
            "2. Mark as Done\n",
            "3. View List\n",
            "4. Exit\n",
            "----------------------\n",
            "Enter your choice : 2\n",
            "What is to be marked as done ? ai\n",
            "Removed item ai\n",
            "----------------------\n",
            "Menu\n",
            "----------------------\n",
            "1. Add Item\n",
            "2. Mark as Done\n",
            "3. View List\n",
            "4. Exit\n",
            "----------------------\n",
            "Enter your choice : 3\n",
            "List of to-do items : \n",
            "----------------------\n",
            "Menu\n",
            "----------------------\n",
            "1. Add Item\n",
            "2. Mark as Done\n",
            "3. View List\n",
            "4. Exit\n",
            "----------------------\n",
            "Enter your choice : 4\n",
            "Goodbye!\n"
          ],
          "name": "stdout"
        }
      ]
    },
    {
      "cell_type": "markdown",
      "metadata": {
        "id": "mzL6R4VPaXBr"
      },
      "source": [
        "**Task**"
      ]
    },
    {
      "cell_type": "code",
      "metadata": {
        "colab": {
          "base_uri": "https://localhost:8080/"
        },
        "id": "VjChMpytaWqA",
        "outputId": "3575e584-2d03-4069-ff88-6a02bf88937c"
      },
      "source": [
        "def line():\r\n",
        "  print(\"----------------------\")\r\n",
        "\r\n",
        "def menu():\r\n",
        "  line()\r\n",
        "  print('Menu')\r\n",
        "  line()\r\n",
        "  print('1. Add course')\r\n",
        "  print('2. View course list')\r\n",
        "  print('3. Remove course')\r\n",
        "  print('4. Exit')\r\n",
        "  line()\r\n",
        "  choice = input('Enter your choice : ')\r\n",
        "  return choice\r\n",
        "\r\n",
        "data = []\r\n",
        "choice = 'random'\r\n",
        "\r\n",
        "while choice != '4':\r\n",
        "  choice = menu()\r\n",
        "  if choice == '1':\r\n",
        "    item = input('Enter your course name : ')\r\n",
        "    data.append(item)\r\n",
        "    print(f\"Course '{item}' added\")\r\n",
        "  elif choice == '2':\r\n",
        "    print('List of course : ')\r\n",
        "    for item in data:\r\n",
        "      print(item)\r\n",
        "  elif choice == '3':\r\n",
        "    item = input('Enter course name : ')\r\n",
        "    if item in data:\r\n",
        "      data.remove(item)\r\n",
        "      print(f\"Removed item '{item}\")\r\n",
        "    else:\r\n",
        "      print(f\"Could not find '{item}'\")\r\n",
        "  elif choice == '4':\r\n",
        "    print('Goodbye!')\r\n",
        "  else:\r\n",
        "    print('Please enter one of 1, 2, 3 or 4')"
      ],
      "execution_count": null,
      "outputs": [
        {
          "output_type": "stream",
          "text": [
            "----------------------\n",
            "Menu\n",
            "----------------------\n",
            "1. Add course\n",
            "2. View course list\n",
            "3. Remove course\n",
            "4. Exit\n",
            "----------------------\n",
            "Enter your choice : 1\n",
            "Enter your course name : a\n",
            "Course 'a' added\n",
            "----------------------\n",
            "Menu\n",
            "----------------------\n",
            "1. Add course\n",
            "2. View course list\n",
            "3. Remove course\n",
            "4. Exit\n",
            "----------------------\n",
            "Enter your choice : 1\n",
            "Enter your course name : b\n",
            "Course 'b' added\n",
            "----------------------\n",
            "Menu\n",
            "----------------------\n",
            "1. Add course\n",
            "2. View course list\n",
            "3. Remove course\n",
            "4. Exit\n",
            "----------------------\n",
            "Enter your choice : 2\n",
            "List of course : \n",
            "a\n",
            "b\n",
            "----------------------\n",
            "Menu\n",
            "----------------------\n",
            "1. Add course\n",
            "2. View course list\n",
            "3. Remove course\n",
            "4. Exit\n",
            "----------------------\n",
            "Enter your choice : 3\n",
            "Enter course name : a\n",
            "Removed item 'a\n",
            "----------------------\n",
            "Menu\n",
            "----------------------\n",
            "1. Add course\n",
            "2. View course list\n",
            "3. Remove course\n",
            "4. Exit\n",
            "----------------------\n",
            "Enter your choice : 4\n",
            "Goodbye!\n"
          ],
          "name": "stdout"
        }
      ]
    }
  ]
}